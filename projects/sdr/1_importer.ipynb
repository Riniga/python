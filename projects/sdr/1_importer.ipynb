{
 "cells": [
  {
   "cell_type": "markdown",
   "metadata": {},
   "source": [
    "# Import data from Svensk Direktreklam\n",
    "Exporterad lista från html kod när man är inloggad\n"
   ]
  },
  {
   "cell_type": "code",
   "execution_count": 1,
   "metadata": {},
   "outputs": [],
   "source": [
    "import requests\n",
    "import pandas as pd\n",
    "from bs4 import BeautifulSoup"
   ]
  },
  {
   "cell_type": "markdown",
   "metadata": {},
   "source": [
    "## Identify all pages for an event"
   ]
  },
  {
   "cell_type": "markdown",
   "metadata": {},
   "source": [
    "## Request and find all played matches from theses pages "
   ]
  },
  {
   "cell_type": "code",
   "execution_count": 55,
   "metadata": {},
   "outputs": [],
   "source": [
    "file = open(\"adresslista.htm\")\n",
    "html_data = file.read()\n",
    "category_rows = list()\n",
    "match_rows = list()\n",
    "soup = BeautifulSoup(html_data, 'html.parser')"
   ]
  },
  {
   "cell_type": "code",
   "execution_count": 90,
   "metadata": {},
   "outputs": [
    {
     "data": {
      "text/plain": [
       "508"
      ]
     },
     "execution_count": 90,
     "metadata": {},
     "output_type": "execute_result"
    }
   ],
   "source": [
    "resulat = []\n",
    "hushåll = soup.find_all(\"div\", {\"class\": \"accordion\"})\n",
    "groups = soup.find_all(\"div\", {\"class\": \"container\"})\n",
    "\n",
    "#category_rows += matches_list.findAll('div',  {\"class\": \"category-row\"} )\n",
    "#match_rows += matches_list.findAll('div',  {\"class\": \"match-row\"} )\n",
    "\n",
    "for hus in hushåll:\n",
    "    plusminus = hus.findAll('span',  {\"class\": \"plusminus\"} )\n",
    "    gnr = hus.findAll('span',  {\"class\": \"gnr\"} )\n",
    "    gnr = gnr[0].text if (len(gnr)>0) else \"\"\n",
    "\n",
    "    hh = hus.findAll('span',  {\"class\": \"hh\"} )\n",
    "    sommarhh = hus.findAll('span',  {\"class\": \"sommarhh\"} )\n",
    "    if (len(sommarhh)): sommarhh=\"sommarstuga\"\n",
    "    else: sommarhh=\"villa\"\n",
    "    type_ = hus.findAll('span',  {\"class\": \"type\"} )\n",
    "    type_ = type_[0].text if (len(type_)>0) else \"\"\n",
    "    rightfiller = hus.findAll('span',  {\"class\": \"rightfiller\"} )\n",
    "    directions = hus.findAll('div',  {\"class\": \"directions\"} )\n",
    "    adress = hus.text[7:]#.split(\" \")[2]\n",
    "    \n",
    "    if (len(directions)>0): \n",
    "        resulat.append (\"-;-;Dir;\" + directions[0].text) \n",
    "        adress=adress.replace(directions[0].text, \"\")\n",
    "    adress= adress.replace(\"\\n\", \"\")\n",
    "    adress = adress.rstrip()\n",
    "    resulat.append (sommarhh + \";\" + gnr + \";\" + type_ + \";\" + adress) \n",
    "\n",
    "\n",
    "\n",
    "\n",
    "len(hushåll)"
   ]
  },
  {
   "cell_type": "markdown",
   "metadata": {},
   "source": [
    "## Extract data into one table"
   ]
  },
  {
   "cell_type": "code",
   "execution_count": 91,
   "metadata": {},
   "outputs": [],
   "source": [
    "file = open(\"resultat.txt\", \"wt\") #(r)ead, (a)ppend, (w)rite, create(x) (t)ext/(b)inary\n",
    "for row in resulat:\n",
    "    file.write(\"%s\\n\" % row)\n",
    "file.close()"
   ]
  },
  {
   "cell_type": "markdown",
   "metadata": {},
   "source": [
    "## Create the dataframe"
   ]
  },
  {
   "cell_type": "code",
   "execution_count": null,
   "metadata": {},
   "outputs": [],
   "source": [
    "df_table_matches = pd.DataFrame(table_matches)\n",
    "df_table_matches.columns = ['Competition', 'Category', 'White Name',     'White Club',        'Blue Name',         'Blue Club',          'Winner Color', 'Winner Name',       'Winner Club',      'Looser Name',   'Looser Club']\n",
    "df_table_matches"
   ]
  },
  {
   "cell_type": "markdown",
   "metadata": {},
   "source": [
    "## Export current event to a csv file"
   ]
  },
  {
   "cell_type": "code",
   "execution_count": 62,
   "metadata": {},
   "outputs": [],
   "source": [
    "df_table_matches.to_csv(event[\"name\"] + '.csv', index=False, encoding='utf-8-sig')# cp1252  iso-8859-1 utf-8 "
   ]
  }
 ],
 "metadata": {
  "kernelspec": {
   "display_name": "Python 3",
   "language": "python",
   "name": "python3"
  },
  "language_info": {
   "codemirror_mode": {
    "name": "ipython",
    "version": 3
   },
   "file_extension": ".py",
   "mimetype": "text/x-python",
   "name": "python",
   "nbconvert_exporter": "python",
   "pygments_lexer": "ipython3",
   "version": "3.10.12"
  }
 },
 "nbformat": 4,
 "nbformat_minor": 2
}
