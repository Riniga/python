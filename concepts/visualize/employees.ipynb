{
 "cells": [
  {
   "cell_type": "markdown",
   "metadata": {},
   "source": [
    "# Visualize Employees and their group membership"
   ]
  },
  {
   "cell_type": "code",
   "execution_count": null,
   "metadata": {},
   "outputs": [],
   "source": []
  },
  {
   "cell_type": "code",
   "execution_count": null,
   "metadata": {},
   "outputs": [
    {
     "data": {
      "text/html": [
       "<div>\n",
       "<style scoped>\n",
       "    .dataframe tbody tr th:only-of-type {\n",
       "        vertical-align: middle;\n",
       "    }\n",
       "\n",
       "    .dataframe tbody tr th {\n",
       "        vertical-align: top;\n",
       "    }\n",
       "\n",
       "    .dataframe thead th {\n",
       "        text-align: right;\n",
       "    }\n",
       "</style>\n",
       "<table border=\"1\" class=\"dataframe\">\n",
       "  <thead>\n",
       "    <tr style=\"text-align: right;\">\n",
       "      <th></th>\n",
       "      <th>Name</th>\n",
       "      <th>Group</th>\n",
       "    </tr>\n",
       "  </thead>\n",
       "  <tbody>\n",
       "    <tr>\n",
       "      <th>0</th>\n",
       "      <td>Leo Williams</td>\n",
       "      <td>Group A</td>\n",
       "    </tr>\n",
       "    <tr>\n",
       "      <th>1</th>\n",
       "      <td>Olivia Thomas</td>\n",
       "      <td>Group B</td>\n",
       "    </tr>\n",
       "    <tr>\n",
       "      <th>2</th>\n",
       "      <td>Leo Jones</td>\n",
       "      <td>Group C</td>\n",
       "    </tr>\n",
       "    <tr>\n",
       "      <th>3</th>\n",
       "      <td>Tina Robinson</td>\n",
       "      <td>Group D</td>\n",
       "    </tr>\n",
       "    <tr>\n",
       "      <th>4</th>\n",
       "      <td>Charlie Thompson</td>\n",
       "      <td>Group E</td>\n",
       "    </tr>\n",
       "    <tr>\n",
       "      <th>...</th>\n",
       "      <td>...</td>\n",
       "      <td>...</td>\n",
       "    </tr>\n",
       "    <tr>\n",
       "      <th>195</th>\n",
       "      <td>Yvonne Hernandez</td>\n",
       "      <td>Group A</td>\n",
       "    </tr>\n",
       "    <tr>\n",
       "      <th>196</th>\n",
       "      <td>Karen Perez</td>\n",
       "      <td>Group B</td>\n",
       "    </tr>\n",
       "    <tr>\n",
       "      <th>197</th>\n",
       "      <td>Xander Jackson</td>\n",
       "      <td>Group C</td>\n",
       "    </tr>\n",
       "    <tr>\n",
       "      <th>198</th>\n",
       "      <td>Karen Brown</td>\n",
       "      <td>Group D</td>\n",
       "    </tr>\n",
       "    <tr>\n",
       "      <th>199</th>\n",
       "      <td>Uma Anderson</td>\n",
       "      <td>Group E</td>\n",
       "    </tr>\n",
       "  </tbody>\n",
       "</table>\n",
       "<p>200 rows × 2 columns</p>\n",
       "</div>"
      ],
      "text/plain": [
       "                 Name    Group\n",
       "0        Leo Williams  Group A\n",
       "1       Olivia Thomas  Group B\n",
       "2           Leo Jones  Group C\n",
       "3       Tina Robinson  Group D\n",
       "4    Charlie Thompson  Group E\n",
       "..                ...      ...\n",
       "195  Yvonne Hernandez  Group A\n",
       "196       Karen Perez  Group B\n",
       "197    Xander Jackson  Group C\n",
       "198       Karen Brown  Group D\n",
       "199      Uma Anderson  Group E\n",
       "\n",
       "[200 rows x 2 columns]"
      ]
     },
     "execution_count": 3,
     "metadata": {},
     "output_type": "execute_result"
    }
   ],
   "source": [
    "import pandas as pd\n",
    "import random\n",
    "\n",
    "first_names = [\n",
    "    \"Alice\", \"Bob\", \"Charlie\", \"Diana\", \"Eve\", \"Frank\", \"Grace\", \"Hank\", \"Ivy\", \"Jack\",\n",
    "    \"Karen\", \"Leo\", \"Mona\", \"Nate\", \"Olivia\", \"Paul\", \"Quinn\", \"Rita\", \"Steve\", \"Tina\",\n",
    "    \"Uma\", \"Victor\", \"Wendy\", \"Xander\", \"Yvonne\", \"Zack\"\n",
    "]\n",
    "\n",
    "last_names = [\n",
    "    \"Smith\", \"Johnson\", \"Williams\", \"Brown\", \"Jones\", \"Garcia\", \"Miller\", \"Davis\", \"Rodriguez\", \"Martinez\",\n",
    "    \"Hernandez\", \"Lopez\", \"Gonzalez\", \"Wilson\", \"Anderson\", \"Thomas\", \"Taylor\", \"Moore\", \"Jackson\", \"Martin\",\n",
    "    \"Lee\", \"Perez\", \"Thompson\", \"White\", \"Harris\", \"Sanchez\", \"Clark\", \"Ramirez\", \"Lewis\", \"Robinson\"\n",
    "]\n",
    "\n",
    "# Generate 200 random names\n",
    "random_names = [f\"{random.choice(first_names)} {random.choice(last_names)}\" for _ in range(200)]\n",
    "dataview = pd.DataFrame(random_names, columns=[\"Name\"])\n",
    "groups = [f\"Group {chr(65 + i % 5)}\" for i in range(200)] \n",
    "dataview['Group'] = groups\n",
    "dataview"
   ]
  },
  {
   "cell_type": "code",
   "execution_count": 4,
   "metadata": {},
   "outputs": [
    {
     "name": "stdout",
     "output_type": "stream",
     "text": [
      "Warning: When  cdn_resources is 'local' jupyter notebook has issues displaying graphics on chrome/safari. Use cdn_resources='in_line' or cdn_resources='remote' if you have issues viewing graphics in a notebook.\n",
      "employees.html\n"
     ]
    },
    {
     "data": {
      "text/html": [
       "\n",
       "        <iframe\n",
       "            width=\"100%\"\n",
       "            height=\"600px\"\n",
       "            src=\"employees.html\"\n",
       "            frameborder=\"0\"\n",
       "            allowfullscreen\n",
       "            \n",
       "        ></iframe>\n",
       "        "
      ],
      "text/plain": [
       "<IPython.lib.display.IFrame at 0x1eb74b7f6a0>"
      ]
     },
     "execution_count": 4,
     "metadata": {},
     "output_type": "execute_result"
    }
   ],
   "source": [
    "import networkx as nx\n",
    "import numpy as np\n",
    "from pyvis.network import Network\n",
    "\n",
    "visualizationdata = pd.DataFrame(\n",
    "    {\n",
    "        \"source\": dataview[\"Name\"].tolist(),\n",
    "        \"target\": dataview[\"Group\"].tolist(),\n",
    "        \"weight\": 0\n",
    "    }\n",
    ")\n",
    "G_team_members = nx.from_pandas_edgelist(visualizationdata, edge_attr=True)\n",
    "net = Network(notebook=True)\n",
    "for source in visualizationdata['source'].unique():\n",
    "    net.add_node(source, label=source)\n",
    "for target in visualizationdata['target'].unique():\n",
    "    net.add_node(target, label=target, color='red')\n",
    "for index, row in visualizationdata.iterrows():\n",
    "    net.add_edge(row['source'], row['target'], value=row['weight']/3, color='gray')\n",
    "net.show(\"employees.html\")"
   ]
  }
 ],
 "metadata": {
  "kernelspec": {
   "display_name": "machinelearning",
   "language": "python",
   "name": "python3"
  },
  "language_info": {
   "codemirror_mode": {
    "name": "ipython",
    "version": 3
   },
   "file_extension": ".py",
   "mimetype": "text/x-python",
   "name": "python",
   "nbconvert_exporter": "python",
   "pygments_lexer": "ipython3",
   "version": "3.10.12"
  },
  "orig_nbformat": 4
 },
 "nbformat": 4,
 "nbformat_minor": 2
}
