{
 "cells": [
  {
   "cell_type": "markdown",
   "metadata": {},
   "source": [
    "# 10 Dealing with huge datasets\n",
    "Download the required file from: https://www.kaggle.com/datasets/nagasai524/nyc-taxi-trip-records-from-jan-2023-to-jun-2023\n"
   ]
  },
  {
   "cell_type": "code",
   "execution_count": 1,
   "metadata": {},
   "outputs": [],
   "source": [
    "import pandas as pd"
   ]
  },
  {
   "cell_type": "code",
   "execution_count": 2,
   "metadata": {},
   "outputs": [],
   "source": [
    "#Featch file from kaggle see link in data folder\n",
    "df = pd.read_csv(\"data/nyc_yellow_taxi_trip_records_from_Jan_to_Aug_2023.csv\") # Tales about 3 minutes to load\n",
    "df=df.sample(1000000)\n",
    "df.to_csv(\"data/nyc_yellow_taxi_trip_selection.csv\")"
   ]
  },
  {
   "cell_type": "code",
   "execution_count": 3,
   "metadata": {},
   "outputs": [],
   "source": [
    "file = \"data/nyc_yellow_taxi_trip_selection.csv\" # Takes about xx seconds...\n",
    "parse_dates = [\"tpep_pickup_datetime\", \"tpep_dropoff_datetime\"]\n",
    "df = pd.read_csv(file, usecols=[\"VendorID\", \"tpep_pickup_datetime\", \"tpep_dropoff_datetime\", \"trip_distance\", \"store_and_fwd_flag\"], dtype={\"store_and_fwd_flag\" : \"string\"}, parse_dates=parse_dates )"
   ]
  },
  {
   "cell_type": "code",
   "execution_count": 4,
   "metadata": {},
   "outputs": [
    {
     "data": {
      "text/html": [
       "<div>\n",
       "<style scoped>\n",
       "    .dataframe tbody tr th:only-of-type {\n",
       "        vertical-align: middle;\n",
       "    }\n",
       "\n",
       "    .dataframe tbody tr th {\n",
       "        vertical-align: top;\n",
       "    }\n",
       "\n",
       "    .dataframe thead th {\n",
       "        text-align: right;\n",
       "    }\n",
       "</style>\n",
       "<table border=\"1\" class=\"dataframe\">\n",
       "  <thead>\n",
       "    <tr style=\"text-align: right;\">\n",
       "      <th></th>\n",
       "      <th>VendorID</th>\n",
       "      <th>tpep_pickup_datetime</th>\n",
       "      <th>tpep_dropoff_datetime</th>\n",
       "      <th>trip_distance</th>\n",
       "      <th>store_and_fwd_flag</th>\n",
       "    </tr>\n",
       "  </thead>\n",
       "  <tbody>\n",
       "    <tr>\n",
       "      <th>0</th>\n",
       "      <td>2</td>\n",
       "      <td>2023-02-19 13:36:39</td>\n",
       "      <td>2023-02-19 13:46:49</td>\n",
       "      <td>1.04</td>\n",
       "      <td>N</td>\n",
       "    </tr>\n",
       "    <tr>\n",
       "      <th>1</th>\n",
       "      <td>1</td>\n",
       "      <td>2023-03-28 14:26:20</td>\n",
       "      <td>2023-03-28 14:55:04</td>\n",
       "      <td>2.60</td>\n",
       "      <td>N</td>\n",
       "    </tr>\n",
       "    <tr>\n",
       "      <th>2</th>\n",
       "      <td>2</td>\n",
       "      <td>2023-05-21 17:39:50</td>\n",
       "      <td>2023-05-21 18:15:01</td>\n",
       "      <td>5.86</td>\n",
       "      <td>N</td>\n",
       "    </tr>\n",
       "    <tr>\n",
       "      <th>3</th>\n",
       "      <td>2</td>\n",
       "      <td>2023-05-27 15:24:46</td>\n",
       "      <td>2023-05-27 15:41:07</td>\n",
       "      <td>2.59</td>\n",
       "      <td>N</td>\n",
       "    </tr>\n",
       "    <tr>\n",
       "      <th>4</th>\n",
       "      <td>2</td>\n",
       "      <td>2023-06-18 22:04:00</td>\n",
       "      <td>2023-06-18 22:15:28</td>\n",
       "      <td>2.07</td>\n",
       "      <td>N</td>\n",
       "    </tr>\n",
       "    <tr>\n",
       "      <th>...</th>\n",
       "      <td>...</td>\n",
       "      <td>...</td>\n",
       "      <td>...</td>\n",
       "      <td>...</td>\n",
       "      <td>...</td>\n",
       "    </tr>\n",
       "    <tr>\n",
       "      <th>999995</th>\n",
       "      <td>2</td>\n",
       "      <td>2023-06-06 11:18:15</td>\n",
       "      <td>2023-06-06 12:02:55</td>\n",
       "      <td>6.73</td>\n",
       "      <td>N</td>\n",
       "    </tr>\n",
       "    <tr>\n",
       "      <th>999996</th>\n",
       "      <td>2</td>\n",
       "      <td>2023-02-15 19:14:23</td>\n",
       "      <td>2023-02-15 19:26:28</td>\n",
       "      <td>1.85</td>\n",
       "      <td>N</td>\n",
       "    </tr>\n",
       "    <tr>\n",
       "      <th>999997</th>\n",
       "      <td>1</td>\n",
       "      <td>2023-03-09 11:51:32</td>\n",
       "      <td>2023-03-09 12:13:03</td>\n",
       "      <td>2.60</td>\n",
       "      <td>N</td>\n",
       "    </tr>\n",
       "    <tr>\n",
       "      <th>999998</th>\n",
       "      <td>2</td>\n",
       "      <td>2023-06-09 21:09:53</td>\n",
       "      <td>2023-06-09 21:32:52</td>\n",
       "      <td>6.87</td>\n",
       "      <td>&lt;NA&gt;</td>\n",
       "    </tr>\n",
       "    <tr>\n",
       "      <th>999999</th>\n",
       "      <td>2</td>\n",
       "      <td>2023-04-27 18:32:19</td>\n",
       "      <td>2023-04-27 18:52:43</td>\n",
       "      <td>1.93</td>\n",
       "      <td>N</td>\n",
       "    </tr>\n",
       "  </tbody>\n",
       "</table>\n",
       "<p>1000000 rows × 5 columns</p>\n",
       "</div>"
      ],
      "text/plain": [
       "        VendorID tpep_pickup_datetime tpep_dropoff_datetime  trip_distance  \\\n",
       "0              2  2023-02-19 13:36:39   2023-02-19 13:46:49           1.04   \n",
       "1              1  2023-03-28 14:26:20   2023-03-28 14:55:04           2.60   \n",
       "2              2  2023-05-21 17:39:50   2023-05-21 18:15:01           5.86   \n",
       "3              2  2023-05-27 15:24:46   2023-05-27 15:41:07           2.59   \n",
       "4              2  2023-06-18 22:04:00   2023-06-18 22:15:28           2.07   \n",
       "...          ...                  ...                   ...            ...   \n",
       "999995         2  2023-06-06 11:18:15   2023-06-06 12:02:55           6.73   \n",
       "999996         2  2023-02-15 19:14:23   2023-02-15 19:26:28           1.85   \n",
       "999997         1  2023-03-09 11:51:32   2023-03-09 12:13:03           2.60   \n",
       "999998         2  2023-06-09 21:09:53   2023-06-09 21:32:52           6.87   \n",
       "999999         2  2023-04-27 18:32:19   2023-04-27 18:52:43           1.93   \n",
       "\n",
       "       store_and_fwd_flag  \n",
       "0                       N  \n",
       "1                       N  \n",
       "2                       N  \n",
       "3                       N  \n",
       "4                       N  \n",
       "...                   ...  \n",
       "999995                  N  \n",
       "999996                  N  \n",
       "999997                  N  \n",
       "999998               <NA>  \n",
       "999999                  N  \n",
       "\n",
       "[1000000 rows x 5 columns]"
      ]
     },
     "execution_count": 4,
     "metadata": {},
     "output_type": "execute_result"
    }
   ],
   "source": [
    "df"
   ]
  },
  {
   "cell_type": "code",
   "execution_count": 5,
   "metadata": {},
   "outputs": [
    {
     "data": {
      "text/plain": [
       "Index                         132\n",
       "VendorID                  8000000\n",
       "tpep_pickup_datetime      8000000\n",
       "tpep_dropoff_datetime     8000000\n",
       "trip_distance             8000000\n",
       "store_and_fwd_flag       58163254\n",
       "dtype: int64"
      ]
     },
     "execution_count": 5,
     "metadata": {},
     "output_type": "execute_result"
    }
   ],
   "source": [
    "df.memory_usage(deep=True)"
   ]
  },
  {
   "cell_type": "code",
   "execution_count": 6,
   "metadata": {},
   "outputs": [
    {
     "data": {
      "text/plain": [
       "VendorID                          int64\n",
       "tpep_pickup_datetime     datetime64[ns]\n",
       "tpep_dropoff_datetime    datetime64[ns]\n",
       "trip_distance                   float64\n",
       "store_and_fwd_flag       string[python]\n",
       "dtype: object"
      ]
     },
     "execution_count": 6,
     "metadata": {},
     "output_type": "execute_result"
    }
   ],
   "source": [
    "df.dtypes"
   ]
  },
  {
   "cell_type": "code",
   "execution_count": 7,
   "metadata": {},
   "outputs": [],
   "source": [
    "df['tpep_pickup_datetime'] = pd.to_datetime(df['tpep_pickup_datetime'])\n",
    "df[\"tpep_dropoff_datetime\"] = df[\"tpep_dropoff_datetime\"].astype(\"datetime64[ns]\")"
   ]
  },
  {
   "cell_type": "code",
   "execution_count": 8,
   "metadata": {},
   "outputs": [
    {
     "data": {
      "text/plain": [
       "Index                         132\n",
       "VendorID                  8000000\n",
       "tpep_pickup_datetime      8000000\n",
       "tpep_dropoff_datetime     8000000\n",
       "trip_distance             8000000\n",
       "store_and_fwd_flag       58163254\n",
       "dtype: int64"
      ]
     },
     "execution_count": 8,
     "metadata": {},
     "output_type": "execute_result"
    }
   ],
   "source": [
    "df.memory_usage(deep=True)\n"
   ]
  },
  {
   "cell_type": "code",
   "execution_count": 9,
   "metadata": {},
   "outputs": [
    {
     "data": {
      "text/plain": [
       "VendorID                          int64\n",
       "tpep_pickup_datetime     datetime64[ns]\n",
       "tpep_dropoff_datetime    datetime64[ns]\n",
       "trip_distance                   float64\n",
       "store_and_fwd_flag       string[python]\n",
       "dtype: object"
      ]
     },
     "execution_count": 9,
     "metadata": {},
     "output_type": "execute_result"
    }
   ],
   "source": [
    "df.dtypes"
   ]
  },
  {
   "cell_type": "code",
   "execution_count": 10,
   "metadata": {},
   "outputs": [
    {
     "name": "stdout",
     "output_type": "stream",
     "text": [
      "<class 'pandas.core.frame.DataFrame'>\n",
      "RangeIndex: 1000000 entries, 0 to 999999\n",
      "Data columns (total 5 columns):\n",
      " #   Column                 Non-Null Count    Dtype         \n",
      "---  ------                 --------------    -----         \n",
      " 0   VendorID               1000000 non-null  int64         \n",
      " 1   tpep_pickup_datetime   1000000 non-null  datetime64[ns]\n",
      " 2   tpep_dropoff_datetime  1000000 non-null  datetime64[ns]\n",
      " 3   trip_distance          1000000 non-null  float64       \n",
      " 4   store_and_fwd_flag     972791 non-null   string        \n",
      "dtypes: datetime64[ns](2), float64(1), int64(1), string(1)\n",
      "memory usage: 38.1 MB\n"
     ]
    }
   ],
   "source": [
    "df.info()"
   ]
  },
  {
   "cell_type": "code",
   "execution_count": 11,
   "metadata": {},
   "outputs": [
    {
     "data": {
      "text/html": [
       "<div>\n",
       "<style scoped>\n",
       "    .dataframe tbody tr th:only-of-type {\n",
       "        vertical-align: middle;\n",
       "    }\n",
       "\n",
       "    .dataframe tbody tr th {\n",
       "        vertical-align: top;\n",
       "    }\n",
       "\n",
       "    .dataframe thead th {\n",
       "        text-align: right;\n",
       "    }\n",
       "</style>\n",
       "<table border=\"1\" class=\"dataframe\">\n",
       "  <thead>\n",
       "    <tr style=\"text-align: right;\">\n",
       "      <th></th>\n",
       "      <th>VendorID</th>\n",
       "      <th>tpep_pickup_datetime</th>\n",
       "      <th>tpep_dropoff_datetime</th>\n",
       "      <th>trip_distance</th>\n",
       "      <th>store_and_fwd_flag</th>\n",
       "    </tr>\n",
       "  </thead>\n",
       "  <tbody>\n",
       "    <tr>\n",
       "      <th>987231</th>\n",
       "      <td>1</td>\n",
       "      <td>2023-04-20 21:28:27</td>\n",
       "      <td>2023-04-20 21:59:31</td>\n",
       "      <td>4.10</td>\n",
       "      <td>N</td>\n",
       "    </tr>\n",
       "    <tr>\n",
       "      <th>79954</th>\n",
       "      <td>2</td>\n",
       "      <td>2023-02-20 13:52:34</td>\n",
       "      <td>2023-02-20 14:14:58</td>\n",
       "      <td>3.50</td>\n",
       "      <td>N</td>\n",
       "    </tr>\n",
       "    <tr>\n",
       "      <th>567130</th>\n",
       "      <td>2</td>\n",
       "      <td>2023-06-27 11:18:16</td>\n",
       "      <td>2023-06-27 11:25:23</td>\n",
       "      <td>1.05</td>\n",
       "      <td>N</td>\n",
       "    </tr>\n",
       "    <tr>\n",
       "      <th>500891</th>\n",
       "      <td>2</td>\n",
       "      <td>2023-05-12 17:16:54</td>\n",
       "      <td>2023-05-12 17:39:20</td>\n",
       "      <td>2.37</td>\n",
       "      <td>N</td>\n",
       "    </tr>\n",
       "    <tr>\n",
       "      <th>55399</th>\n",
       "      <td>2</td>\n",
       "      <td>2023-04-18 15:59:50</td>\n",
       "      <td>2023-04-18 17:18:15</td>\n",
       "      <td>17.90</td>\n",
       "      <td>N</td>\n",
       "    </tr>\n",
       "  </tbody>\n",
       "</table>\n",
       "</div>"
      ],
      "text/plain": [
       "        VendorID tpep_pickup_datetime tpep_dropoff_datetime  trip_distance  \\\n",
       "987231         1  2023-04-20 21:28:27   2023-04-20 21:59:31           4.10   \n",
       "79954          2  2023-02-20 13:52:34   2023-02-20 14:14:58           3.50   \n",
       "567130         2  2023-06-27 11:18:16   2023-06-27 11:25:23           1.05   \n",
       "500891         2  2023-05-12 17:16:54   2023-05-12 17:39:20           2.37   \n",
       "55399          2  2023-04-18 15:59:50   2023-04-18 17:18:15          17.90   \n",
       "\n",
       "       store_and_fwd_flag  \n",
       "987231                  N  \n",
       "79954                   N  \n",
       "567130                  N  \n",
       "500891                  N  \n",
       "55399                   N  "
      ]
     },
     "execution_count": 11,
     "metadata": {},
     "output_type": "execute_result"
    }
   ],
   "source": [
    "random_selection_fixed =df.sample(100, random_state=42)\n",
    "random_selection_fixed.head()"
   ]
  }
 ],
 "metadata": {
  "kernelspec": {
   "display_name": "Python 3",
   "language": "python",
   "name": "python3"
  },
  "language_info": {
   "codemirror_mode": {
    "name": "ipython",
    "version": 3
   },
   "file_extension": ".py",
   "mimetype": "text/x-python",
   "name": "python",
   "nbconvert_exporter": "python",
   "pygments_lexer": "ipython3",
   "version": "3.11.5"
  },
  "orig_nbformat": 4
 },
 "nbformat": 4,
 "nbformat_minor": 2
}
