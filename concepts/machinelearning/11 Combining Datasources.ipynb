{
 "cells": [
  {
   "cell_type": "markdown",
   "metadata": {},
   "source": [
    "# Combine data sources"
   ]
  },
  {
   "cell_type": "code",
   "execution_count": 2,
   "metadata": {},
   "outputs": [
    {
     "name": "stdout",
     "output_type": "stream",
     "text": [
      "   latitude  longitude ocean_proximity\n",
      "0     37.88    -122.23        NEAR BAY\n",
      "1     37.86    -122.22        NEAR BAY\n",
      "2     37.85    -122.24        NEAR BAY\n",
      "3     37.85    -122.25        NEAR BAY\n",
      "4     37.85    -122.25        NEAR BAY\n"
     ]
    }
   ],
   "source": [
    "import pandas as pd\n",
    "df = pd.read_csv(\"data/housing.csv\")\n",
    "df_geo =  df[[\"latitude\", \"longitude\", \"ocean_proximity\"]]\n",
    "print(df_geo.head(5))"
   ]
  },
  {
   "cell_type": "code",
   "execution_count": 4,
   "metadata": {},
   "outputs": [
    {
     "name": "stdout",
     "output_type": "stream",
     "text": [
      "   latitude  longitude ocean_proximity  median_house_value\n",
      "0     37.88    -122.23        NEAR BAY            452600.0\n",
      "1     37.86    -122.22        NEAR BAY            358500.0\n",
      "2     37.85    -122.24        NEAR BAY            352100.0\n",
      "3     37.85    -122.25        NEAR BAY            341300.0\n",
      "4     37.85    -122.25        NEAR BAY            342200.0\n"
     ]
    }
   ],
   "source": [
    "df_geo2 = df_geo.join(df[\"median_house_value\"])\n",
    "print(df_geo2.head(5))"
   ]
  },
  {
   "cell_type": "code",
   "execution_count": 8,
   "metadata": {},
   "outputs": [
    {
     "name": "stdout",
     "output_type": "stream",
     "text": [
      "         latitude  longitude_x ocean_proximity  longitude_y  \\\n",
      "0           37.88      -122.23        NEAR BAY      -122.23   \n",
      "1           37.88      -122.23        NEAR BAY      -122.34   \n",
      "2           37.88      -122.23        NEAR BAY      -122.29   \n",
      "3           37.88      -122.23        NEAR BAY      -122.28   \n",
      "4           37.88      -122.23        NEAR BAY      -122.26   \n",
      "...           ...          ...             ...          ...   \n",
      "1775707     35.96      -119.04          INLAND      -119.04   \n",
      "1775708     35.86      -119.46          INLAND      -119.46   \n",
      "1775709     35.85      -119.12          INLAND      -119.12   \n",
      "1775710     35.89      -119.27          INLAND      -119.27   \n",
      "1775711     35.88      -119.27          INLAND      -119.27   \n",
      "\n",
      "         median_house_value  \n",
      "0                  452600.0  \n",
      "1                  350000.0  \n",
      "2                  216700.0  \n",
      "3                  261300.0  \n",
      "4                  391800.0  \n",
      "...                     ...  \n",
      "1775707             51700.0  \n",
      "1775708             42700.0  \n",
      "1775709             58300.0  \n",
      "1775710             53300.0  \n",
      "1775711             43700.0  \n",
      "\n",
      "[1775712 rows x 5 columns]\n"
     ]
    }
   ],
   "source": [
    "df_price = df[[\"latitude\", \"longitude\", \"median_house_value\"]]\n",
    "df_merged = df_geo.merge(df_price, left_on=\"latitude\", right_on=\"latitude\") #\n",
    "print(df_merged)\n",
    "\n",
    "\n"
   ]
  },
  {
   "cell_type": "code",
   "execution_count": 17,
   "metadata": {},
   "outputs": [
    {
     "name": "stdout",
     "output_type": "stream",
     "text": [
      "       latitude  longitude  median_house_value  latitude  longitude  \\\n",
      "0         37.88    -122.23            452600.0     37.88    -122.23   \n",
      "1         37.86    -122.22            358500.0     37.86    -122.22   \n",
      "2         37.85    -122.24            352100.0     37.85    -122.24   \n",
      "3         37.85    -122.25            341300.0     37.85    -122.25   \n",
      "4         37.85    -122.25            342200.0     37.85    -122.25   \n",
      "...         ...        ...                 ...       ...        ...   \n",
      "20635     39.48    -121.09             78100.0     39.48    -121.09   \n",
      "20636     39.49    -121.21             77100.0     39.49    -121.21   \n",
      "20637     39.43    -121.22             92300.0     39.43    -121.22   \n",
      "20638     39.43    -121.32             84700.0     39.43    -121.32   \n",
      "20639     39.37    -121.24             89400.0     39.37    -121.24   \n",
      "\n",
      "      ocean_proximity  \n",
      "0            NEAR BAY  \n",
      "1            NEAR BAY  \n",
      "2            NEAR BAY  \n",
      "3            NEAR BAY  \n",
      "4            NEAR BAY  \n",
      "...               ...  \n",
      "20635          INLAND  \n",
      "20636          INLAND  \n",
      "20637          INLAND  \n",
      "20638          INLAND  \n",
      "20639          INLAND  \n",
      "\n",
      "[20640 rows x 6 columns]\n"
     ]
    }
   ],
   "source": [
    "joined = pd.concat([df_price, df_geo], join=\"inner\", axis=1 )\n",
    "print (joined)"
   ]
  }
 ],
 "metadata": {
  "kernelspec": {
   "display_name": "Python 3",
   "language": "python",
   "name": "python3"
  },
  "language_info": {
   "codemirror_mode": {
    "name": "ipython",
    "version": 3
   },
   "file_extension": ".py",
   "mimetype": "text/x-python",
   "name": "python",
   "nbconvert_exporter": "python",
   "pygments_lexer": "ipython3",
   "version": "3.11.5"
  },
  "orig_nbformat": 4
 },
 "nbformat": 4,
 "nbformat_minor": 2
}
