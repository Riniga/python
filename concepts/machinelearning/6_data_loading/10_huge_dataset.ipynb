{
 "cells": [
  {
   "cell_type": "markdown",
   "metadata": {},
   "source": [
    "# 10 Dealing with huge datasets\n",
    "Download the required file from: https://www.kaggle.com/datasets/nagasai524/nyc-taxi-trip-records-from-jan-2023-to-jun-2023\n"
   ]
  },
  {
   "cell_type": "code",
   "execution_count": 3,
   "metadata": {},
   "outputs": [],
   "source": [
    "import pandas as pd"
   ]
  },
  {
   "cell_type": "code",
   "execution_count": 4,
   "metadata": {},
   "outputs": [],
   "source": [
    "#Featch file from kaggle see link in data folder\n",
    "df = pd.read_csv(\"../data/nyc_yellow_taxi_trip_records_from_Jan_to_Aug_2023.csv\") # Tales about 3 minutes to load\n",
    "df=df.sample(1000000)\n",
    "df.to_csv(\"../data/nyc_yellow_taxi_trip_selection.csv\")"
   ]
  },
  {
   "cell_type": "code",
   "execution_count": 5,
   "metadata": {},
   "outputs": [],
   "source": [
    "file = \"../data/nyc_yellow_taxi_trip_selection.csv\" # Takes about 7 seconds...\n",
    "parse_dates = [\"tpep_pickup_datetime\", \"tpep_dropoff_datetime\"]\n",
    "df = pd.read_csv(file, usecols=[\"VendorID\", \"tpep_pickup_datetime\", \"tpep_dropoff_datetime\", \"trip_distance\", \"store_and_fwd_flag\"], dtype={\"store_and_fwd_flag\" : \"string\"}, parse_dates=parse_dates )"
   ]
  },
  {
   "cell_type": "code",
   "execution_count": 6,
   "metadata": {},
   "outputs": [
    {
     "data": {
      "text/html": [
       "<div>\n",
       "<style scoped>\n",
       "    .dataframe tbody tr th:only-of-type {\n",
       "        vertical-align: middle;\n",
       "    }\n",
       "\n",
       "    .dataframe tbody tr th {\n",
       "        vertical-align: top;\n",
       "    }\n",
       "\n",
       "    .dataframe thead th {\n",
       "        text-align: right;\n",
       "    }\n",
       "</style>\n",
       "<table border=\"1\" class=\"dataframe\">\n",
       "  <thead>\n",
       "    <tr style=\"text-align: right;\">\n",
       "      <th></th>\n",
       "      <th>VendorID</th>\n",
       "      <th>tpep_pickup_datetime</th>\n",
       "      <th>tpep_dropoff_datetime</th>\n",
       "      <th>trip_distance</th>\n",
       "      <th>store_and_fwd_flag</th>\n",
       "    </tr>\n",
       "  </thead>\n",
       "  <tbody>\n",
       "    <tr>\n",
       "      <th>0</th>\n",
       "      <td>1</td>\n",
       "      <td>2023-06-05 17:53:11</td>\n",
       "      <td>2023-06-05 18:00:08</td>\n",
       "      <td>0.90</td>\n",
       "      <td>N</td>\n",
       "    </tr>\n",
       "    <tr>\n",
       "      <th>1</th>\n",
       "      <td>1</td>\n",
       "      <td>2023-05-18 14:07:56</td>\n",
       "      <td>2023-05-18 14:25:23</td>\n",
       "      <td>4.60</td>\n",
       "      <td>N</td>\n",
       "    </tr>\n",
       "    <tr>\n",
       "      <th>2</th>\n",
       "      <td>2</td>\n",
       "      <td>2023-02-28 11:39:49</td>\n",
       "      <td>2023-02-28 12:07:41</td>\n",
       "      <td>11.33</td>\n",
       "      <td>N</td>\n",
       "    </tr>\n",
       "    <tr>\n",
       "      <th>3</th>\n",
       "      <td>2</td>\n",
       "      <td>2023-01-24 08:13:45</td>\n",
       "      <td>2023-01-24 08:23:57</td>\n",
       "      <td>1.21</td>\n",
       "      <td>N</td>\n",
       "    </tr>\n",
       "    <tr>\n",
       "      <th>4</th>\n",
       "      <td>2</td>\n",
       "      <td>2023-04-15 09:42:46</td>\n",
       "      <td>2023-04-15 09:48:49</td>\n",
       "      <td>1.54</td>\n",
       "      <td>N</td>\n",
       "    </tr>\n",
       "    <tr>\n",
       "      <th>...</th>\n",
       "      <td>...</td>\n",
       "      <td>...</td>\n",
       "      <td>...</td>\n",
       "      <td>...</td>\n",
       "      <td>...</td>\n",
       "    </tr>\n",
       "    <tr>\n",
       "      <th>999995</th>\n",
       "      <td>2</td>\n",
       "      <td>2023-03-17 12:13:23</td>\n",
       "      <td>2023-03-17 12:27:59</td>\n",
       "      <td>1.18</td>\n",
       "      <td>N</td>\n",
       "    </tr>\n",
       "    <tr>\n",
       "      <th>999996</th>\n",
       "      <td>2</td>\n",
       "      <td>2023-01-08 10:47:51</td>\n",
       "      <td>2023-01-08 11:00:47</td>\n",
       "      <td>3.51</td>\n",
       "      <td>N</td>\n",
       "    </tr>\n",
       "    <tr>\n",
       "      <th>999997</th>\n",
       "      <td>2</td>\n",
       "      <td>2023-02-07 05:30:21</td>\n",
       "      <td>2023-02-07 05:54:48</td>\n",
       "      <td>16.66</td>\n",
       "      <td>N</td>\n",
       "    </tr>\n",
       "    <tr>\n",
       "      <th>999998</th>\n",
       "      <td>2</td>\n",
       "      <td>2023-04-22 16:36:56</td>\n",
       "      <td>2023-04-22 16:47:47</td>\n",
       "      <td>1.64</td>\n",
       "      <td>N</td>\n",
       "    </tr>\n",
       "    <tr>\n",
       "      <th>999999</th>\n",
       "      <td>2</td>\n",
       "      <td>2023-06-26 13:06:31</td>\n",
       "      <td>2023-06-26 13:37:03</td>\n",
       "      <td>6.84</td>\n",
       "      <td>N</td>\n",
       "    </tr>\n",
       "  </tbody>\n",
       "</table>\n",
       "<p>1000000 rows × 5 columns</p>\n",
       "</div>"
      ],
      "text/plain": [
       "        VendorID tpep_pickup_datetime tpep_dropoff_datetime  trip_distance  \\\n",
       "0              1  2023-06-05 17:53:11   2023-06-05 18:00:08           0.90   \n",
       "1              1  2023-05-18 14:07:56   2023-05-18 14:25:23           4.60   \n",
       "2              2  2023-02-28 11:39:49   2023-02-28 12:07:41          11.33   \n",
       "3              2  2023-01-24 08:13:45   2023-01-24 08:23:57           1.21   \n",
       "4              2  2023-04-15 09:42:46   2023-04-15 09:48:49           1.54   \n",
       "...          ...                  ...                   ...            ...   \n",
       "999995         2  2023-03-17 12:13:23   2023-03-17 12:27:59           1.18   \n",
       "999996         2  2023-01-08 10:47:51   2023-01-08 11:00:47           3.51   \n",
       "999997         2  2023-02-07 05:30:21   2023-02-07 05:54:48          16.66   \n",
       "999998         2  2023-04-22 16:36:56   2023-04-22 16:47:47           1.64   \n",
       "999999         2  2023-06-26 13:06:31   2023-06-26 13:37:03           6.84   \n",
       "\n",
       "       store_and_fwd_flag  \n",
       "0                       N  \n",
       "1                       N  \n",
       "2                       N  \n",
       "3                       N  \n",
       "4                       N  \n",
       "...                   ...  \n",
       "999995                  N  \n",
       "999996                  N  \n",
       "999997                  N  \n",
       "999998                  N  \n",
       "999999                  N  \n",
       "\n",
       "[1000000 rows x 5 columns]"
      ]
     },
     "execution_count": 6,
     "metadata": {},
     "output_type": "execute_result"
    }
   ],
   "source": [
    "df"
   ]
  },
  {
   "cell_type": "code",
   "execution_count": 7,
   "metadata": {},
   "outputs": [
    {
     "data": {
      "text/plain": [
       "Index                         128\n",
       "VendorID                  8000000\n",
       "tpep_pickup_datetime      8000000\n",
       "tpep_dropoff_datetime     8000000\n",
       "trip_distance             8000000\n",
       "store_and_fwd_flag       57510598\n",
       "dtype: int64"
      ]
     },
     "execution_count": 7,
     "metadata": {},
     "output_type": "execute_result"
    }
   ],
   "source": [
    "df.memory_usage(deep=True)"
   ]
  },
  {
   "cell_type": "code",
   "execution_count": 8,
   "metadata": {},
   "outputs": [
    {
     "data": {
      "text/plain": [
       "VendorID                          int64\n",
       "tpep_pickup_datetime     datetime64[ns]\n",
       "tpep_dropoff_datetime    datetime64[ns]\n",
       "trip_distance                   float64\n",
       "store_and_fwd_flag       string[python]\n",
       "dtype: object"
      ]
     },
     "execution_count": 8,
     "metadata": {},
     "output_type": "execute_result"
    }
   ],
   "source": [
    "df.dtypes"
   ]
  },
  {
   "cell_type": "code",
   "execution_count": 9,
   "metadata": {},
   "outputs": [],
   "source": [
    "df['tpep_pickup_datetime'] = pd.to_datetime(df['tpep_pickup_datetime'])\n",
    "df[\"tpep_dropoff_datetime\"] = df[\"tpep_dropoff_datetime\"].astype(\"datetime64[ns]\")"
   ]
  },
  {
   "cell_type": "code",
   "execution_count": 10,
   "metadata": {},
   "outputs": [
    {
     "data": {
      "text/plain": [
       "Index                         128\n",
       "VendorID                  8000000\n",
       "tpep_pickup_datetime      8000000\n",
       "tpep_dropoff_datetime     8000000\n",
       "trip_distance             8000000\n",
       "store_and_fwd_flag       57510598\n",
       "dtype: int64"
      ]
     },
     "execution_count": 10,
     "metadata": {},
     "output_type": "execute_result"
    }
   ],
   "source": [
    "df.memory_usage(deep=True)\n"
   ]
  },
  {
   "cell_type": "code",
   "execution_count": null,
   "metadata": {},
   "outputs": [
    {
     "data": {
      "text/plain": [
       "VendorID                          int64\n",
       "tpep_pickup_datetime     datetime64[ns]\n",
       "tpep_dropoff_datetime    datetime64[ns]\n",
       "trip_distance                   float64\n",
       "store_and_fwd_flag       string[python]\n",
       "dtype: object"
      ]
     },
     "execution_count": 9,
     "metadata": {},
     "output_type": "execute_result"
    }
   ],
   "source": [
    "df.dtypes"
   ]
  },
  {
   "cell_type": "code",
   "execution_count": null,
   "metadata": {},
   "outputs": [
    {
     "name": "stdout",
     "output_type": "stream",
     "text": [
      "<class 'pandas.core.frame.DataFrame'>\n",
      "RangeIndex: 1000000 entries, 0 to 999999\n",
      "Data columns (total 5 columns):\n",
      " #   Column                 Non-Null Count    Dtype         \n",
      "---  ------                 --------------    -----         \n",
      " 0   VendorID               1000000 non-null  int64         \n",
      " 1   tpep_pickup_datetime   1000000 non-null  datetime64[ns]\n",
      " 2   tpep_dropoff_datetime  1000000 non-null  datetime64[ns]\n",
      " 3   trip_distance          1000000 non-null  float64       \n",
      " 4   store_and_fwd_flag     972888 non-null   string        \n",
      "dtypes: datetime64[ns](2), float64(1), int64(1), string(1)\n",
      "memory usage: 38.1 MB\n"
     ]
    }
   ],
   "source": [
    "df.info()"
   ]
  },
  {
   "cell_type": "code",
   "execution_count": null,
   "metadata": {},
   "outputs": [
    {
     "data": {
      "text/html": [
       "<div>\n",
       "<style scoped>\n",
       "    .dataframe tbody tr th:only-of-type {\n",
       "        vertical-align: middle;\n",
       "    }\n",
       "\n",
       "    .dataframe tbody tr th {\n",
       "        vertical-align: top;\n",
       "    }\n",
       "\n",
       "    .dataframe thead th {\n",
       "        text-align: right;\n",
       "    }\n",
       "</style>\n",
       "<table border=\"1\" class=\"dataframe\">\n",
       "  <thead>\n",
       "    <tr style=\"text-align: right;\">\n",
       "      <th></th>\n",
       "      <th>VendorID</th>\n",
       "      <th>tpep_pickup_datetime</th>\n",
       "      <th>tpep_dropoff_datetime</th>\n",
       "      <th>trip_distance</th>\n",
       "      <th>store_and_fwd_flag</th>\n",
       "    </tr>\n",
       "  </thead>\n",
       "  <tbody>\n",
       "    <tr>\n",
       "      <th>987231</th>\n",
       "      <td>1</td>\n",
       "      <td>2023-02-13 22:05:17</td>\n",
       "      <td>2023-02-13 22:27:10</td>\n",
       "      <td>4.90</td>\n",
       "      <td>&lt;NA&gt;</td>\n",
       "    </tr>\n",
       "    <tr>\n",
       "      <th>79954</th>\n",
       "      <td>2</td>\n",
       "      <td>2023-05-27 13:39:19</td>\n",
       "      <td>2023-05-27 13:55:27</td>\n",
       "      <td>2.07</td>\n",
       "      <td>N</td>\n",
       "    </tr>\n",
       "    <tr>\n",
       "      <th>567130</th>\n",
       "      <td>2</td>\n",
       "      <td>2023-04-30 23:52:20</td>\n",
       "      <td>2023-05-01 00:04:39</td>\n",
       "      <td>4.42</td>\n",
       "      <td>N</td>\n",
       "    </tr>\n",
       "    <tr>\n",
       "      <th>500891</th>\n",
       "      <td>2</td>\n",
       "      <td>2023-05-02 19:38:49</td>\n",
       "      <td>2023-05-02 19:51:28</td>\n",
       "      <td>1.54</td>\n",
       "      <td>N</td>\n",
       "    </tr>\n",
       "    <tr>\n",
       "      <th>55399</th>\n",
       "      <td>2</td>\n",
       "      <td>2023-03-10 14:43:30</td>\n",
       "      <td>2023-03-10 14:55:22</td>\n",
       "      <td>1.59</td>\n",
       "      <td>N</td>\n",
       "    </tr>\n",
       "  </tbody>\n",
       "</table>\n",
       "</div>"
      ],
      "text/plain": [
       "        VendorID tpep_pickup_datetime tpep_dropoff_datetime  trip_distance  \\\n",
       "987231         1  2023-02-13 22:05:17   2023-02-13 22:27:10           4.90   \n",
       "79954          2  2023-05-27 13:39:19   2023-05-27 13:55:27           2.07   \n",
       "567130         2  2023-04-30 23:52:20   2023-05-01 00:04:39           4.42   \n",
       "500891         2  2023-05-02 19:38:49   2023-05-02 19:51:28           1.54   \n",
       "55399          2  2023-03-10 14:43:30   2023-03-10 14:55:22           1.59   \n",
       "\n",
       "       store_and_fwd_flag  \n",
       "987231               <NA>  \n",
       "79954                   N  \n",
       "567130                  N  \n",
       "500891                  N  \n",
       "55399                   N  "
      ]
     },
     "execution_count": 11,
     "metadata": {},
     "output_type": "execute_result"
    }
   ],
   "source": [
    "random_selection_fixed =df.sample(100, random_state=42)\n",
    "random_selection_fixed.head()"
   ]
  }
 ],
 "metadata": {
  "kernelspec": {
   "display_name": "Python 3",
   "language": "python",
   "name": "python3"
  },
  "language_info": {
   "codemirror_mode": {
    "name": "ipython",
    "version": 3
   },
   "file_extension": ".py",
   "mimetype": "text/x-python",
   "name": "python",
   "nbconvert_exporter": "python",
   "pygments_lexer": "ipython3",
   "version": "3.10.12"
  },
  "orig_nbformat": 4
 },
 "nbformat": 4,
 "nbformat_minor": 2
}
