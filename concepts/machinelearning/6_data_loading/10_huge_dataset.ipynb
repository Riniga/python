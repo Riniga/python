{
 "cells": [
  {
   "cell_type": "markdown",
   "metadata": {},
   "source": [
    "# 10 Dealing with huge datasets\n",
    "Download the required file from: https://www.kaggle.com/datasets/nagasai524/nyc-taxi-trip-records-from-jan-2023-to-jun-2023\n"
   ]
  },
  {
   "cell_type": "code",
   "execution_count": 1,
   "metadata": {},
   "outputs": [],
   "source": [
    "import pandas as pd"
   ]
  },
  {
   "cell_type": "code",
   "execution_count": 3,
   "metadata": {},
   "outputs": [],
   "source": [
    "#Featch file from kaggle see link in data folder\n",
    "df = pd.read_csv(\"../data/nyc_yellow_taxi_trip_records_from_Jan_to_Aug_2023.csv\") # Tales about 3 minutes to load\n",
    "df=df.sample(1000000)\n",
    "df.to_csv(\"../data/nyc_yellow_taxi_trip_selection.csv\")"
   ]
  },
  {
   "cell_type": "code",
   "execution_count": 4,
   "metadata": {},
   "outputs": [],
   "source": [
    "file = \"../data/nyc_yellow_taxi_trip_selection.csv\" # Takes about 7 seconds...\n",
    "parse_dates = [\"tpep_pickup_datetime\", \"tpep_dropoff_datetime\"]\n",
    "df = pd.read_csv(file, usecols=[\"VendorID\", \"tpep_pickup_datetime\", \"tpep_dropoff_datetime\", \"trip_distance\", \"store_and_fwd_flag\"], dtype={\"store_and_fwd_flag\" : \"string\"}, parse_dates=parse_dates )"
   ]
  },
  {
   "cell_type": "code",
   "execution_count": 5,
   "metadata": {},
   "outputs": [
    {
     "data": {
      "text/html": [
       "<div>\n",
       "<style scoped>\n",
       "    .dataframe tbody tr th:only-of-type {\n",
       "        vertical-align: middle;\n",
       "    }\n",
       "\n",
       "    .dataframe tbody tr th {\n",
       "        vertical-align: top;\n",
       "    }\n",
       "\n",
       "    .dataframe thead th {\n",
       "        text-align: right;\n",
       "    }\n",
       "</style>\n",
       "<table border=\"1\" class=\"dataframe\">\n",
       "  <thead>\n",
       "    <tr style=\"text-align: right;\">\n",
       "      <th></th>\n",
       "      <th>VendorID</th>\n",
       "      <th>tpep_pickup_datetime</th>\n",
       "      <th>tpep_dropoff_datetime</th>\n",
       "      <th>trip_distance</th>\n",
       "      <th>store_and_fwd_flag</th>\n",
       "    </tr>\n",
       "  </thead>\n",
       "  <tbody>\n",
       "    <tr>\n",
       "      <th>0</th>\n",
       "      <td>2</td>\n",
       "      <td>2023-05-29 15:40:01</td>\n",
       "      <td>2023-05-29 15:51:15</td>\n",
       "      <td>1.97</td>\n",
       "      <td>N</td>\n",
       "    </tr>\n",
       "    <tr>\n",
       "      <th>1</th>\n",
       "      <td>1</td>\n",
       "      <td>2023-01-26 16:55:19</td>\n",
       "      <td>2023-01-26 17:01:28</td>\n",
       "      <td>0.30</td>\n",
       "      <td>N</td>\n",
       "    </tr>\n",
       "    <tr>\n",
       "      <th>2</th>\n",
       "      <td>1</td>\n",
       "      <td>2023-04-14 23:14:24</td>\n",
       "      <td>2023-04-14 23:29:10</td>\n",
       "      <td>1.70</td>\n",
       "      <td>N</td>\n",
       "    </tr>\n",
       "    <tr>\n",
       "      <th>3</th>\n",
       "      <td>2</td>\n",
       "      <td>2023-01-23 07:47:19</td>\n",
       "      <td>2023-01-23 08:10:05</td>\n",
       "      <td>8.31</td>\n",
       "      <td>N</td>\n",
       "    </tr>\n",
       "    <tr>\n",
       "      <th>4</th>\n",
       "      <td>1</td>\n",
       "      <td>2023-02-23 08:49:52</td>\n",
       "      <td>2023-02-23 08:59:24</td>\n",
       "      <td>0.90</td>\n",
       "      <td>N</td>\n",
       "    </tr>\n",
       "    <tr>\n",
       "      <th>...</th>\n",
       "      <td>...</td>\n",
       "      <td>...</td>\n",
       "      <td>...</td>\n",
       "      <td>...</td>\n",
       "      <td>...</td>\n",
       "    </tr>\n",
       "    <tr>\n",
       "      <th>999995</th>\n",
       "      <td>2</td>\n",
       "      <td>2023-06-09 19:11:50</td>\n",
       "      <td>2023-06-09 19:22:02</td>\n",
       "      <td>1.45</td>\n",
       "      <td>N</td>\n",
       "    </tr>\n",
       "    <tr>\n",
       "      <th>999996</th>\n",
       "      <td>2</td>\n",
       "      <td>2023-06-07 10:32:05</td>\n",
       "      <td>2023-06-07 10:36:00</td>\n",
       "      <td>0.76</td>\n",
       "      <td>N</td>\n",
       "    </tr>\n",
       "    <tr>\n",
       "      <th>999997</th>\n",
       "      <td>2</td>\n",
       "      <td>2023-02-02 17:47:30</td>\n",
       "      <td>2023-02-02 18:00:14</td>\n",
       "      <td>1.96</td>\n",
       "      <td>N</td>\n",
       "    </tr>\n",
       "    <tr>\n",
       "      <th>999998</th>\n",
       "      <td>2</td>\n",
       "      <td>2023-01-15 15:58:16</td>\n",
       "      <td>2023-01-15 16:10:47</td>\n",
       "      <td>1.78</td>\n",
       "      <td>N</td>\n",
       "    </tr>\n",
       "    <tr>\n",
       "      <th>999999</th>\n",
       "      <td>2</td>\n",
       "      <td>2023-04-04 18:37:16</td>\n",
       "      <td>2023-04-04 19:27:41</td>\n",
       "      <td>18.34</td>\n",
       "      <td>N</td>\n",
       "    </tr>\n",
       "  </tbody>\n",
       "</table>\n",
       "<p>1000000 rows × 5 columns</p>\n",
       "</div>"
      ],
      "text/plain": [
       "        VendorID tpep_pickup_datetime tpep_dropoff_datetime  trip_distance  \\\n",
       "0              2  2023-05-29 15:40:01   2023-05-29 15:51:15           1.97   \n",
       "1              1  2023-01-26 16:55:19   2023-01-26 17:01:28           0.30   \n",
       "2              1  2023-04-14 23:14:24   2023-04-14 23:29:10           1.70   \n",
       "3              2  2023-01-23 07:47:19   2023-01-23 08:10:05           8.31   \n",
       "4              1  2023-02-23 08:49:52   2023-02-23 08:59:24           0.90   \n",
       "...          ...                  ...                   ...            ...   \n",
       "999995         2  2023-06-09 19:11:50   2023-06-09 19:22:02           1.45   \n",
       "999996         2  2023-06-07 10:32:05   2023-06-07 10:36:00           0.76   \n",
       "999997         2  2023-02-02 17:47:30   2023-02-02 18:00:14           1.96   \n",
       "999998         2  2023-01-15 15:58:16   2023-01-15 16:10:47           1.78   \n",
       "999999         2  2023-04-04 18:37:16   2023-04-04 19:27:41          18.34   \n",
       "\n",
       "       store_and_fwd_flag  \n",
       "0                       N  \n",
       "1                       N  \n",
       "2                       N  \n",
       "3                       N  \n",
       "4                       N  \n",
       "...                   ...  \n",
       "999995                  N  \n",
       "999996                  N  \n",
       "999997                  N  \n",
       "999998                  N  \n",
       "999999                  N  \n",
       "\n",
       "[1000000 rows x 5 columns]"
      ]
     },
     "execution_count": 5,
     "metadata": {},
     "output_type": "execute_result"
    }
   ],
   "source": [
    "df"
   ]
  },
  {
   "cell_type": "code",
   "execution_count": 6,
   "metadata": {},
   "outputs": [
    {
     "data": {
      "text/plain": [
       "Index                         128\n",
       "VendorID                  8000000\n",
       "tpep_pickup_datetime      8000000\n",
       "tpep_dropoff_datetime     8000000\n",
       "trip_distance             8000000\n",
       "store_and_fwd_flag       57513262\n",
       "dtype: int64"
      ]
     },
     "execution_count": 6,
     "metadata": {},
     "output_type": "execute_result"
    }
   ],
   "source": [
    "df.memory_usage(deep=True)"
   ]
  },
  {
   "cell_type": "code",
   "execution_count": 7,
   "metadata": {},
   "outputs": [
    {
     "data": {
      "text/plain": [
       "VendorID                          int64\n",
       "tpep_pickup_datetime     datetime64[ns]\n",
       "tpep_dropoff_datetime    datetime64[ns]\n",
       "trip_distance                   float64\n",
       "store_and_fwd_flag       string[python]\n",
       "dtype: object"
      ]
     },
     "execution_count": 7,
     "metadata": {},
     "output_type": "execute_result"
    }
   ],
   "source": [
    "df.dtypes"
   ]
  },
  {
   "cell_type": "code",
   "execution_count": 8,
   "metadata": {},
   "outputs": [],
   "source": [
    "df['tpep_pickup_datetime'] = pd.to_datetime(df['tpep_pickup_datetime'])\n",
    "df[\"tpep_dropoff_datetime\"] = df[\"tpep_dropoff_datetime\"].astype(\"datetime64[ns]\")"
   ]
  },
  {
   "cell_type": "code",
   "execution_count": 9,
   "metadata": {},
   "outputs": [
    {
     "data": {
      "text/plain": [
       "Index                         128\n",
       "VendorID                  8000000\n",
       "tpep_pickup_datetime      8000000\n",
       "tpep_dropoff_datetime     8000000\n",
       "trip_distance             8000000\n",
       "store_and_fwd_flag       57513262\n",
       "dtype: int64"
      ]
     },
     "execution_count": 9,
     "metadata": {},
     "output_type": "execute_result"
    }
   ],
   "source": [
    "df.memory_usage(deep=True)\n"
   ]
  },
  {
   "cell_type": "code",
   "execution_count": 10,
   "metadata": {},
   "outputs": [
    {
     "data": {
      "text/plain": [
       "VendorID                          int64\n",
       "tpep_pickup_datetime     datetime64[ns]\n",
       "tpep_dropoff_datetime    datetime64[ns]\n",
       "trip_distance                   float64\n",
       "store_and_fwd_flag       string[python]\n",
       "dtype: object"
      ]
     },
     "execution_count": 10,
     "metadata": {},
     "output_type": "execute_result"
    }
   ],
   "source": [
    "df.dtypes"
   ]
  },
  {
   "cell_type": "code",
   "execution_count": 11,
   "metadata": {},
   "outputs": [
    {
     "name": "stdout",
     "output_type": "stream",
     "text": [
      "<class 'pandas.core.frame.DataFrame'>\n",
      "RangeIndex: 1000000 entries, 0 to 999999\n",
      "Data columns (total 5 columns):\n",
      " #   Column                 Non-Null Count    Dtype         \n",
      "---  ------                 --------------    -----         \n",
      " 0   VendorID               1000000 non-null  int64         \n",
      " 1   tpep_pickup_datetime   1000000 non-null  datetime64[ns]\n",
      " 2   tpep_dropoff_datetime  1000000 non-null  datetime64[ns]\n",
      " 3   trip_distance          1000000 non-null  float64       \n",
      " 4   store_and_fwd_flag     972959 non-null   string        \n",
      "dtypes: datetime64[ns](2), float64(1), int64(1), string(1)\n",
      "memory usage: 38.1 MB\n"
     ]
    }
   ],
   "source": [
    "df.info()"
   ]
  },
  {
   "cell_type": "code",
   "execution_count": 12,
   "metadata": {},
   "outputs": [
    {
     "data": {
      "text/html": [
       "<div>\n",
       "<style scoped>\n",
       "    .dataframe tbody tr th:only-of-type {\n",
       "        vertical-align: middle;\n",
       "    }\n",
       "\n",
       "    .dataframe tbody tr th {\n",
       "        vertical-align: top;\n",
       "    }\n",
       "\n",
       "    .dataframe thead th {\n",
       "        text-align: right;\n",
       "    }\n",
       "</style>\n",
       "<table border=\"1\" class=\"dataframe\">\n",
       "  <thead>\n",
       "    <tr style=\"text-align: right;\">\n",
       "      <th></th>\n",
       "      <th>VendorID</th>\n",
       "      <th>tpep_pickup_datetime</th>\n",
       "      <th>tpep_dropoff_datetime</th>\n",
       "      <th>trip_distance</th>\n",
       "      <th>store_and_fwd_flag</th>\n",
       "    </tr>\n",
       "  </thead>\n",
       "  <tbody>\n",
       "    <tr>\n",
       "      <th>987231</th>\n",
       "      <td>2</td>\n",
       "      <td>2023-06-14 20:53:32</td>\n",
       "      <td>2023-06-14 21:03:03</td>\n",
       "      <td>1.91</td>\n",
       "      <td>N</td>\n",
       "    </tr>\n",
       "    <tr>\n",
       "      <th>79954</th>\n",
       "      <td>2</td>\n",
       "      <td>2023-04-28 15:01:04</td>\n",
       "      <td>2023-04-28 15:15:39</td>\n",
       "      <td>2.04</td>\n",
       "      <td>N</td>\n",
       "    </tr>\n",
       "    <tr>\n",
       "      <th>567130</th>\n",
       "      <td>1</td>\n",
       "      <td>2023-05-17 21:36:52</td>\n",
       "      <td>2023-05-17 21:39:33</td>\n",
       "      <td>0.50</td>\n",
       "      <td>N</td>\n",
       "    </tr>\n",
       "    <tr>\n",
       "      <th>500891</th>\n",
       "      <td>1</td>\n",
       "      <td>2023-04-05 06:19:28</td>\n",
       "      <td>2023-04-05 06:19:46</td>\n",
       "      <td>0.00</td>\n",
       "      <td>Y</td>\n",
       "    </tr>\n",
       "    <tr>\n",
       "      <th>55399</th>\n",
       "      <td>2</td>\n",
       "      <td>2023-06-16 19:45:50</td>\n",
       "      <td>2023-06-16 19:46:42</td>\n",
       "      <td>0.25</td>\n",
       "      <td>N</td>\n",
       "    </tr>\n",
       "  </tbody>\n",
       "</table>\n",
       "</div>"
      ],
      "text/plain": [
       "        VendorID tpep_pickup_datetime tpep_dropoff_datetime  trip_distance  \\\n",
       "987231         2  2023-06-14 20:53:32   2023-06-14 21:03:03           1.91   \n",
       "79954          2  2023-04-28 15:01:04   2023-04-28 15:15:39           2.04   \n",
       "567130         1  2023-05-17 21:36:52   2023-05-17 21:39:33           0.50   \n",
       "500891         1  2023-04-05 06:19:28   2023-04-05 06:19:46           0.00   \n",
       "55399          2  2023-06-16 19:45:50   2023-06-16 19:46:42           0.25   \n",
       "\n",
       "       store_and_fwd_flag  \n",
       "987231                  N  \n",
       "79954                   N  \n",
       "567130                  N  \n",
       "500891                  Y  \n",
       "55399                   N  "
      ]
     },
     "execution_count": 12,
     "metadata": {},
     "output_type": "execute_result"
    }
   ],
   "source": [
    "random_selection_fixed =df.sample(100, random_state=42)\n",
    "random_selection_fixed.head()"
   ]
  }
 ],
 "metadata": {
  "kernelspec": {
   "display_name": "Python 3",
   "language": "python",
   "name": "python3"
  },
  "language_info": {
   "codemirror_mode": {
    "name": "ipython",
    "version": 3
   },
   "file_extension": ".py",
   "mimetype": "text/x-python",
   "name": "python",
   "nbconvert_exporter": "python",
   "pygments_lexer": "ipython3",
   "version": "3.10.12"
  },
  "orig_nbformat": 4
 },
 "nbformat": 4,
 "nbformat_minor": 2
}
