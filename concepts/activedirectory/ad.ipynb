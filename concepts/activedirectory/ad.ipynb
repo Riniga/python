{
 "cells": [
  {
   "cell_type": "code",
   "execution_count": 4,
   "metadata": {},
   "outputs": [],
   "source": [
    "from ldap3 import Server, Connection, ALL, NTLM, SUBTREE"
   ]
  },
  {
   "cell_type": "code",
   "execution_count": 8,
   "metadata": {},
   "outputs": [],
   "source": [
    "# Configuration variables\n",
    "AD_SERVER = 'ldap://skanska.org'  # Example: 'ldap://skanska.org'\n",
    "AD_DOMAIN = 'skanska.org'\n",
    "AD_USER = 'your_username@skanska.org'\n",
    "AD_PASSWORD = 'your_password'\n",
    "SEARCH_BASE = 'DC=skanska,DC=org'  # Change based on your AD structure\n",
    "\n",
    "# Define fields to retrieve for each user\n",
    "FIELDS = [\n",
    "    'sAMAccountName',  # Username\n",
    "    'displayName',     # Full Name\n",
    "    'title',           # Job Title\n",
    "    'mail',            # Email\n",
    "    'telephoneNumber', # Phone\n",
    "    'department',      # Department\n",
    "    'physicalDeliveryOfficeName'  # Office\n",
    "]"
   ]
  },
  {
   "cell_type": "code",
   "execution_count": null,
   "metadata": {},
   "outputs": [],
   "source": [
    "\n",
    "\n",
    "def list_ad_users():\n",
    "    # Connect to the AD server\n",
    "    server = Server(AD_SERVER, get_info=ALL)\n",
    "    # conn = Connection(server, user=AD_USER, password=AD_PASSWORD, authentication=NTLM, auto_bind=True)\n",
    "    conn = Connection(server, authentication=NTLM, auto_bind=True)\n",
    "    \n",
    "    # Perform the LDAP search\n",
    "    conn.search(\n",
    "        search_base=SEARCH_BASE,\n",
    "        search_filter='(objectClass=user)',  # Filter for user objects\n",
    "        search_scope=SUBTREE,\n",
    "        attributes=FIELDS\n",
    "    )\n",
    "    \n",
    "    # Process and print each user entry\n",
    "\n",
    "    users = []\n",
    "    for idx, entry in enumerate(conn.entries):\n",
    "        if idx >= 10:  # Stop once the limit is reached\n",
    "            break\n",
    "        user_info = {\n",
    "            'username': entry.sAMAccountName.value,\n",
    "            'full_name': entry.displayName.value,\n",
    "            'title': entry.title.value,\n",
    "            'email': entry.mail.value,\n",
    "            'phone': entry.telephoneNumber.value,\n",
    "            'department': entry.department.value,\n",
    "            'office': entry.physicalDeliveryOfficeName.value,\n",
    "        }\n",
    "    # for entry in conn.entries:\n",
    "    #     user_info = {\n",
    "    #         'username': entry.sAMAccountName.value,\n",
    "    #         'full_name': entry.displayName.value,\n",
    "    #         'title': entry.title.value,\n",
    "    #         'email': entry.mail.value,\n",
    "    #         'phone': entry.telephoneNumber.value,\n",
    "    #         'department': entry.department.value,\n",
    "    #         'office': entry.physicalDeliveryOfficeName.value,\n",
    "    #     }\n",
    "        users.append(user_info)\n",
    "    \n",
    "    # Close the connection\n",
    "    conn.unbind()\n",
    "    \n",
    "    return users\n"
   ]
  },
  {
   "cell_type": "code",
   "execution_count": null,
   "metadata": {},
   "outputs": [],
   "source": [
    "\n",
    "# Fetch and display users\n",
    "if __name__ == '__main__':\n",
    "    users = list_ad_users()\n",
    "    for user in users:\n",
    "        print(user)\n"
   ]
  }
 ],
 "metadata": {
  "kernelspec": {
   "display_name": "Python 3",
   "language": "python",
   "name": "python3"
  },
  "language_info": {
   "codemirror_mode": {
    "name": "ipython",
    "version": 3
   },
   "file_extension": ".py",
   "mimetype": "text/x-python",
   "name": "python",
   "nbconvert_exporter": "python",
   "pygments_lexer": "ipython3",
   "version": "3.10.14"
  }
 },
 "nbformat": 4,
 "nbformat_minor": 2
}
